{
 "cells": [
  {
   "cell_type": "markdown",
   "metadata": {},
   "source": [
    "## Spell Checker and Grammaticality Test"
   ]
  },
  {
   "cell_type": "markdown",
   "metadata": {},
   "source": [
    "### Imports and Initializations\n",
    "\n",
    "Firstly, we will import packages like `os`, `re`, `matplotlib.pyplot`, etc and initialize the `PrettyPrinter` for printing data in an organized manner."
   ]
  },
  {
   "cell_type": "code",
   "execution_count": 11,
   "metadata": {},
   "outputs": [],
   "source": [
    "import os, re, pprint\n",
    "import matplotlib.pyplot as plt\n",
    "import numpy as np\n",
    "\n",
    "from collections import Counter\n",
    "\n",
    "pp = pprint.PrettyPrinter(indent=2)"
   ]
  },
  {
   "cell_type": "markdown",
   "metadata": {},
   "source": [
    "### Tokenizer\n",
    "\n",
    "Now we write our tokenizer class, which will have methods to handle sentence as well as word tokenizing."
   ]
  },
  {
   "cell_type": "code",
   "execution_count": 24,
   "metadata": {},
   "outputs": [],
   "source": [
    "class Tokenizer:\n",
    "    def postproc_word(self, words):\n",
    "        return words\n",
    "\n",
    "    def into_words(self, text, punctuation=False):\n",
    "        if not punctuation:\n",
    "            return [_.lower() for _ in re.split(r\"[^a-zA-ZÀ-ÿ0-9']+\", text)]\n",
    "        else:\n",
    "            words = [_ for _ in re.split(r\"[^a-zA-ZÀ-ÿ0-9,.?!/:;-\\\"']+\", text)]\n",
    "            return self.postproc_word(words)\n",
    "\n",
    "    def into_sentences(self, text):\n",
    "        text = \" \" + text + \"  \"\n",
    "        text = text.replace(\"\\n\",\" \")\n",
    "        text = re.sub(self.prefixes,\"\\\\1<prd>\",text)\n",
    "        text = re.sub(self.websites,\"<prd>\\\\1\",text)\n",
    "        if \"Ph.D\" in text: text = text.replace(\"Ph.D.\",\"Ph<prd>D<prd>\")\n",
    "        text = re.sub(\"\\s\" + self.caps + \"[.] \",\" \\\\1<prd> \",text)\n",
    "        text = re.sub(self.acronyms+\" \"+self.starters,\"\\\\1<stop> \\\\2\",text)\n",
    "        text = re.sub(self.caps + \"[.]\" + self.caps + \"[.]\" + self.caps + \"[.]\",\"\\\\1<prd>\\\\2<prd>\\\\3<prd>\",text)\n",
    "        text = re.sub(self.caps + \"[.]\" + self.caps + \"[.]\",\"\\\\1<prd>\\\\2<prd>\",text)\n",
    "        text = re.sub(\" \"+self.suffixes+\"[.] \"+self.starters,\" \\\\1<stop> \\\\2\",text)\n",
    "        text = re.sub(\" \"+self.suffixes+\"[.]\",\" \\\\1<prd>\",text)\n",
    "        text = re.sub(\" \" + self.caps + \"[.]\",\" \\\\1<prd>\",text)\n",
    "        if \"”\" in text: text = text.replace(\".”\",\"”.\")\n",
    "        if \"\\\"\" in text: text = text.replace(\".\\\"\",\"\\\".\")\n",
    "        if \"!\" in text: text = text.replace(\"!\\\"\",\"\\\"!\")\n",
    "        if \"?\" in text: text = text.replace(\"?\\\"\",\"\\\"?\")\n",
    "        text = text.replace(\".\",\".<stop>\")\n",
    "        text = text.replace(\"?\",\"?<stop>\")\n",
    "        text = text.replace(\"!\",\"!<stop>\")\n",
    "        text = text.replace(\"<prd>\",\".\")\n",
    "        sentences = text.split(\"<stop>\")\n",
    "        sentences = sentences[:-1]\n",
    "        sentences = [s.strip() for s in sentences]\n",
    "        return sentences\n",
    "            \n",
    "    def get_words_counter(self):\n",
    "        return self.words\n",
    "    \n",
    "    def get_sentences(self):\n",
    "        return self.sentences\n",
    "    \n",
    "    def __init__(self, texts):\n",
    "        self.caps = \"([A-Z])\"\n",
    "        self.prefixes = \"(Mr|St|Mrs|Ms|Dr)[.]\"\n",
    "        self.suffixes = \"(Inc|Ltd|Jr|Sr|Co)\"\n",
    "        self.starters = \"(Mr|Mrs|Ms|Dr|He\\s|She\\s|It\\s|They\\s|Their\\s|Our\\s|We\\s|But\\s|However\\s|That\\s|This\\s|Wherever)\"\n",
    "        self.acronyms = \"([A-Z][.][A-Z][.](?:[A-Z][.])?)\"\n",
    "        self.websites = \"[.](com|net|org|io|gov)\"\n",
    "        \n",
    "        self.words = Counter([])\n",
    "        self.sentences = []\n",
    "        for text in texts:\n",
    "            self.words.update(self.into_words(text))\n",
    "            arr = []\n",
    "            for sentence in self.into_sentences(text):\n",
    "                self.sentences.append(self.into_words(sentence))"
   ]
  },
  {
   "cell_type": "markdown",
   "metadata": {},
   "source": [
    "### Language Modelling\n",
    "\n",
    "After tokenizing we will need to write a class which will handle the language modelling using `n-grams`. This class will also have methods which will give a score to a particular sequence, thus helping us in our final tasks of spell checker and grammaticality test."
   ]
  },
  {
   "cell_type": "code",
   "execution_count": 89,
   "metadata": {},
   "outputs": [],
   "source": [
    "class LM:\n",
    "    def N(self, c, l):\n",
    "        return len([v for (k, v) in self.get_model(l).items() if v == c])\n",
    "\n",
    "    def get_model(self, n):\n",
    "        if n in self.models.keys():\n",
    "            return self.models[n]\n",
    "        else:\n",
    "            self.models[n] = language_model(self.groups, n, plot=False)\n",
    "            return self.models[n]\n",
    "\n",
    "    def get_count(self, token):\n",
    "        model = self.get_model(len(token))\n",
    "        return model[token] if token in model.keys() else 0 \n",
    "\n",
    "    def get_count_gt(self, token):\n",
    "        l = len(token)\n",
    "        model = self.get_model(l)\n",
    "        if token not in model.keys():\n",
    "            return N(1, l)\n",
    "        else:\n",
    "            c = model[token]\n",
    "            return (c + 1) * self.N((c + 1), l) / self.N(c, l)\n",
    "\n",
    "    def get_prob_gt(self, token):\n",
    "        return self.get_count_gt(token) / self.get_count_gt(token[:-1])\n",
    "\n",
    "    def get_prob_laplace(self, token, factor=1):\n",
    "        l = len(token)\n",
    "        x = len(self.get_model(1).keys())\n",
    "        model = self.get_model(l)\n",
    "        N = len(model.keys()) + factor * (x ** l)\n",
    "        \n",
    "        if token in model.keys():\n",
    "            return (model[token] + factor) / N\n",
    "        return factor / N\n",
    "\n",
    "    def get_ngrams(self, group, n):\n",
    "        ngrams = []\n",
    "        for i in range(len(group)-n+1):\n",
    "            ngrams.append(tuple(group[i:i+n]))\n",
    "        return ngrams\n",
    "\n",
    "    def predict_next(self, sequence):\n",
    "        prob = {}\n",
    "        length = len(sequence)\n",
    "        alphabet = self.models[1].keys()\n",
    "        for letter in alphabet:\n",
    "            gram = sequence + letter\n",
    "            if gram in self.get_model(length + 1).keys() and sequence in self.get_model(length).keys():\n",
    "                prob[gram] = self.get_prob_gt(gram)\n",
    "        return sorted(prob.items(), key=lambda item: item[1], reverse=True)\n",
    "\n",
    "    def get_score(self, group, n, log=True):\n",
    "        grams = self.get_ngrams(group, n)\n",
    "        probs = []\n",
    "        for gram in grams:\n",
    "            probs.append(self.get_prob_laplace(gram))\n",
    "        if log:\n",
    "            return np.log(probs).sum()\n",
    "        return np.array(probs).prod()\n",
    "\n",
    "    def language_model(self, groups, n):\n",
    "        ngrams = Counter([])\n",
    "        for group in groups:\n",
    "            ngrams.update(self.get_ngrams(group, n))\n",
    "        return ngrams\n",
    "\n",
    "    def __init__(self, groups):\n",
    "        self.groups = groups\n",
    "        self.models = {}\n",
    "        for n in range(1, 5):\n",
    "            self.models[n] = self.language_model(self.groups, n)"
   ]
  },
  {
   "cell_type": "markdown",
   "metadata": {},
   "source": [
    "### Tokenizing the corpus\n",
    "\n",
    "Now that we have written the code for both tokenizing and language modelling, we will tokenize the [Gutenberg Corpus](https://drive.google.com/file/d/0B2Mzhc7popBga2RkcWZNcjlRTGM/edit) into sentences and words."
   ]
  },
  {
   "cell_type": "code",
   "execution_count": 56,
   "metadata": {},
   "outputs": [],
   "source": [
    "files = os.listdir('../Gutenberg/txt')\n",
    "files.remove('Henry David Thoreau___A Week on the Concord and Merrimack Rivers.txt')\n",
    "files = files[:20]\n",
    "texts = []\n",
    "\n",
    "for file in files:\n",
    "    file = os.path.join('../Gutenberg/txt', file)\n",
    "    f = open(file, 'r')\n",
    "    texts.append(f.read())\n",
    "    f.close()\n",
    "    \n",
    "t = Tokenizer(texts)\n",
    "words = t.get_words_counter()\n",
    "sentences = t.get_sentences()"
   ]
  },
  {
   "cell_type": "markdown",
   "metadata": {},
   "source": [
    "### Zipf's Law\n",
    "\n",
    "Now, we are going to verify the Zipf's Law by plotting the frequency of the first 1000 words."
   ]
  },
  {
   "cell_type": "code",
   "execution_count": 57,
   "metadata": {},
   "outputs": [
    {
     "name": "stdout",
     "output_type": "stream",
     "text": [
      "[ ('the', 95495),\n",
      "  ('and', 56223),\n",
      "  ('of', 51290),\n",
      "  ('to', 47651),\n",
      "  ('a', 36444),\n",
      "  ('in', 28568),\n",
      "  ('i', 25546),\n",
      "  ('that', 22274),\n",
      "  ('was', 20388),\n",
      "  ('he', 19229)]\n"
     ]
    },
    {
     "data": {
      "image/png": "[encoded data removed]",
      "text/plain": [
       "<Figure size 432x288 with 1 Axes>"
      ]
     },
     "metadata": {},
     "output_type": "display_data"
    }
   ],
   "source": [
    "pp.pprint(words.most_common(10))\n",
    "\n",
    "y = [b for a, b in words.most_common(1000)]\n",
    "x = range(len(y))\n",
    "\n",
    "plt.plot(x, y)\n",
    "plt.title('Frequency of words')\n",
    "plt.show()"
   ]
  },
  {
   "cell_type": "markdown",
   "metadata": {},
   "source": [
    "### Language Models for Words\n",
    "\n",
    "Using `LM` and the built-in methods we will build the language models for the words that we just extracted from the corpus."
   ]
  },
  {
   "cell_type": "code",
   "execution_count": 90,
   "metadata": {},
   "outputs": [
    {
     "name": "stdout",
     "output_type": "stream",
     "text": [
      "[ (('i', 'n', 'g'), 3269),\n",
      "  (('i', 'o', 'n'), 1386),\n",
      "  (('e', 'n', 't'), 1254),\n",
      "  (('t', 'i', 'o'), 1110),\n",
      "  (('a', 't', 'i'), 1043),\n",
      "  (('t', 'e', 'r'), 1032),\n",
      "  (('e', 's', 's'), 1016),\n",
      "  (('e', 'r', 's'), 910),\n",
      "  (('a', 't', 'e'), 870),\n",
      "  (('t', 'e', 'd'), 831)]\n",
      "[ (('m', 's', 'g'), 1),\n",
      "  (('t', 'p', 'i'), 1),\n",
      "  (('n', 't', 'c'), 1),\n",
      "  ((\"'\", 'u', 'r'), 1),\n",
      "  (('h', 's', 's'), 1),\n",
      "  (('w', 't', 'a'), 1),\n",
      "  ((\"'\", 'a', \"'\"), 1),\n",
      "  (('a', 'o', 'w'), 1),\n",
      "  (('n', 'a', 'o'), 1),\n",
      "  (('s', 'y', 'i'), 1)]\n"
     ]
    },
    {
     "data": {
      "image/png": "[encoded data removed]",
      "text/plain": [
       "<Figure size 432x288 with 1 Axes>"
      ]
     },
     "metadata": {},
     "output_type": "display_data"
    },
    {
     "data": {
      "image/png": "[encoded data removed]",
      "text/plain": [
       "<Figure size 432x288 with 1 Axes>"
      ]
     },
     "metadata": {},
     "output_type": "display_data"
    }
   ],
   "source": [
    "words_lm = LM(words.keys())\n",
    "\n",
    "pp.pprint(words_lm.get_model(3).most_common(10))\n",
    "pp.pprint(words_lm.get_model(3).most_common()[:-11:-1])\n",
    "\n",
    "y1 = np.array([b for a, b in words_lm.get_model(3).most_common(1000)])\n",
    "y2 = np.log(np.log(y1))\n",
    "x = np.arange(len(y1))\n",
    "plt.plot(x, y1)\n",
    "plt.title('Frequency of 3-grams')\n",
    "plt.show()\n",
    "plt.plot(x, y2)\n",
    "plt.title('log-log frequency of 3-grams')\n",
    "plt.show()"
   ]
  },
  {
   "cell_type": "markdown",
   "metadata": {},
   "source": [
    "### Language Models for Sentences\n",
    "\n",
    "Using `LM` and the built-in methods we will build the language models for the sentences that we just extracted from the corpus."
   ]
  },
  {
   "cell_type": "code",
   "execution_count": 91,
   "metadata": {},
   "outputs": [
    {
     "name": "stdout",
     "output_type": "stream",
     "text": [
      "[ (('one', 'of', 'the'), 656),\n",
      "  (('out', 'of', 'the'), 468),\n",
      "  (('as', 'well', 'as'), 362),\n",
      "  (('there', 'was', 'a'), 337),\n",
      "  (('it', 'was', 'a'), 321),\n",
      "  (('in', 'the', 'world'), 299),\n",
      "  (('part', 'of', 'the'), 291),\n",
      "  (('as', 'soon', 'as'), 279),\n",
      "  (('that', 'he', 'was'), 275),\n",
      "  (('that', 'it', 'was'), 270)]\n",
      "[ (('of', 'ramsgate', ''), 1),\n",
      "  (('earl', 'of', 'ramsgate'), 1),\n",
      "  (('summer', 'as', 'the'), 1),\n",
      "  (('last', 'summer', 'as'), 1),\n",
      "  (('sea', 'last', 'summer'), 1),\n",
      "  (('at', 'sea', 'last'), 1),\n",
      "  (('died', 'at', 'sea'), 1),\n",
      "  (('these', 'matters', ''), 1),\n",
      "  (('earnest', 'in', 'these'), 1),\n",
      "  (('deadest', 'earnest', 'in'), 1)]\n"
     ]
    },
    {
     "data": {
      "image/png": "[encoded data removed]",
      "text/plain": [
       "<Figure size 432x288 with 1 Axes>"
      ]
     },
     "metadata": {},
     "output_type": "display_data"
    },
    {
     "data": {
      "image/png": "[encoded data removed]",
      "text/plain": [
       "<Figure size 432x288 with 1 Axes>"
      ]
     },
     "metadata": {},
     "output_type": "display_data"
    }
   ],
   "source": [
    "sents_lm = LM(sentences)\n",
    "\n",
    "pp.pprint(sents_lm.get_model(3).most_common(10))\n",
    "pp.pprint(sents_lm.get_model(3).most_common()[:-11:-1])\n",
    "\n",
    "y1 = np.array([b for a, b in sents_lm.get_model(3).most_common(1000)])\n",
    "y2 = np.log(np.log(y1))\n",
    "x = np.arange(len(y1))\n",
    "plt.plot(x, y1)\n",
    "plt.title('Frequency of 3-grams')\n",
    "plt.show()\n",
    "plt.plot(x, y2)\n",
    "plt.title('log-log frequency of 3-grams')\n",
    "plt.show()"
   ]
  },
  {
   "cell_type": "markdown",
   "metadata": {},
   "source": [
    "### Spell Checker\n",
    "\n",
    "Using the language model for the words, we try to predict the correct spelling."
   ]
  },
  {
   "cell_type": "code",
   "execution_count": null,
   "metadata": {},
   "outputs": [],
   "source": []
  },
  {
   "cell_type": "markdown",
   "metadata": {},
   "source": [
    "### Grammaticality Test\n",
    "\n",
    "Using the language model for sentences, we score sentences and thus check the grammaticality of a sentence."
   ]
  },
  {
   "cell_type": "code",
   "execution_count": 92,
   "metadata": {},
   "outputs": [
    {
     "name": "stdout",
     "output_type": "stream",
     "text": [
      "-58.76673459863868\n",
      "-61.83145974367962\n"
     ]
    }
   ],
   "source": [
    "test_sents = [['i', 'am', 'a', 'man'], ['man', 'am', 'i', 'a']]\n",
    "\n",
    "for s in test_sents:\n",
    "    pp.pprint(sents_lm.get_score(s, 3, log=True))"
   ]
  }
 ],
 "metadata": {
  "kernelspec": {
   "display_name": "Python 3",
   "language": "python",
   "name": "python3"
  },
  "language_info": {
   "codemirror_mode": {
    "name": "ipython",
    "version": 3
   },
   "file_extension": ".py",
   "mimetype": "text/x-python",
   "name": "python",
   "nbconvert_exporter": "python",
   "pygments_lexer": "ipython3",
   "version": "3.6.5"
  }
 },
 "nbformat": 4,
 "nbformat_minor": 2
}
